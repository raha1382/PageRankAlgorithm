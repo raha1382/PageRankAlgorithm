{
 "cells": [
  {
   "cell_type": "markdown",
   "metadata": {},
   "source": [
    "imports"
   ]
  },
  {
   "cell_type": "code",
   "execution_count": 1,
   "metadata": {},
   "outputs": [],
   "source": [
    "import numpy as np\n",
    "from scipy.io import mmread\n",
    "from scipy import sparse\n",
    "import time\n",
    "import networkx as nx"
   ]
  },
  {
   "cell_type": "markdown",
   "metadata": {},
   "source": [
    "loading dataset"
   ]
  },
  {
   "cell_type": "code",
   "execution_count": 2,
   "metadata": {},
   "outputs": [],
   "source": [
    "data = mmread('web-BerkStan.mtx')\n",
    "data = data.tocsc()[:1000, :1000]\n",
    "data = data.toarray()"
   ]
  },
  {
   "cell_type": "markdown",
   "metadata": {},
   "source": [
    "Pagerank algorithm using np.linalg.eig"
   ]
  },
  {
   "cell_type": "code",
   "execution_count": 3,
   "metadata": {},
   "outputs": [
    {
     "name": "stdout",
     "output_type": "stream",
     "text": [
      "Top 20 Pages:\n",
      "Page ID: 39, PageRank Score: 0.04936581382495595\n",
      "Page ID: 860, PageRank Score: 0.03811308735747028\n",
      "Page ID: 767, PageRank Score: 0.037216513683417884\n",
      "Page ID: 371, PageRank Score: 0.03534615255500336\n",
      "Page ID: 256, PageRank Score: 0.034851590278168865\n",
      "Page ID: 23, PageRank Score: 0.034803574893768625\n",
      "Page ID: 926, PageRank Score: 0.0346072429948062\n",
      "Page ID: 295, PageRank Score: 0.03446539526053894\n",
      "Page ID: 509, PageRank Score: 0.03437958689105596\n",
      "Page ID: 329, PageRank Score: 0.0342994745615091\n",
      "Page ID: 612, PageRank Score: 0.0341730825089172\n",
      "Page ID: 692, PageRank Score: 0.03406272072207295\n",
      "Page ID: 459, PageRank Score: 0.033823284193474634\n",
      "Page ID: 564, PageRank Score: 0.033820193729866485\n",
      "Page ID: 425, PageRank Score: 0.03363515946962345\n",
      "Page ID: 742, PageRank Score: 0.03341637024155727\n",
      "Page ID: 197, PageRank Score: 0.03339593132340186\n",
      "Page ID: 32, PageRank Score: 0.03339483436429722\n",
      "Page ID: 232, PageRank Score: 0.03318074314597347\n",
      "Page ID: 160, PageRank Score: 0.03317508230331613\n"
     ]
    }
   ],
   "source": [
    "def pagerank_lib(matrix, alpha):\n",
    "    n = matrix.shape[0]\n",
    "    e = np.ones(n)\n",
    "    d = np.zeros(n)\n",
    "\n",
    "    # define Q matrix by normalizing input matrix\n",
    "    Q = matrix\n",
    "    sum_col = Q.sum(axis=0)\n",
    "\n",
    "    # d is needed for next parts\n",
    "    d[np.where(sum_col==0)]=1\n",
    "    sum_col[np.where(sum_col==0)]=1 # avoiding devision by zero\n",
    "    Q = Q/sum_col\n",
    "\n",
    "    # define P matrix(stochastic matrix)\n",
    "    P = Q + ((e@d.T)/n)\n",
    "    \n",
    "    # define A matrix\n",
    "    A = alpha*P + ((1-alpha)/n)*(e@e.T)\n",
    "    \n",
    "    return np.linalg.eig(A).eigenvectors.T[0].real\n",
    "\n",
    "start = time.time()\n",
    "r_lib = pagerank_lib(data.T, 0.85)\n",
    "time_lib = time.time()-start\n",
    "\n",
    "top_20_indices = np.argsort(r_lib)[-20:][::-1]\n",
    "top_20_scores = r_lib[top_20_indices]\n",
    "\n",
    "print(\"Top 20 Pages:\")\n",
    "for idx, score in zip(top_20_indices, top_20_scores):\n",
    "    print(f\"Page ID: {idx}, PageRank Score: {score}\")"
   ]
  },
  {
   "cell_type": "markdown",
   "metadata": {},
   "source": [
    "Pagerank algorithm using Power method"
   ]
  },
  {
   "cell_type": "code",
   "execution_count": 4,
   "metadata": {},
   "outputs": [
    {
     "name": "stdout",
     "output_type": "stream",
     "text": [
      "Top 20 Pages:\n",
      "Page ID: 860, PageRank Score: 0.037339018285163124\n",
      "Page ID: 767, PageRank Score: 0.03409353941091894\n",
      "Page ID: 39, PageRank Score: 0.031264801813871125\n",
      "Page ID: 926, PageRank Score: 0.028489368991158153\n",
      "Page ID: 371, PageRank Score: 0.014183179677400126\n",
      "Page ID: 742, PageRank Score: 0.013386018851682774\n",
      "Page ID: 934, PageRank Score: 0.01296768097366021\n",
      "Page ID: 256, PageRank Score: 0.01252323975634228\n",
      "Page ID: 803, PageRank Score: 0.012284514637246755\n",
      "Page ID: 32, PageRank Score: 0.01226138945029178\n",
      "Page ID: 967, PageRank Score: 0.012203665540833951\n",
      "Page ID: 944, PageRank Score: 0.012033850596198957\n",
      "Page ID: 714, PageRank Score: 0.01166482102041012\n",
      "Page ID: 719, PageRank Score: 0.011530591356115392\n",
      "Page ID: 923, PageRank Score: 0.011530591356115392\n",
      "Page ID: 720, PageRank Score: 0.011471920283654754\n",
      "Page ID: 295, PageRank Score: 0.010722576881532343\n",
      "Page ID: 329, PageRank Score: 0.009994023717161292\n",
      "Page ID: 812, PageRank Score: 0.007888344980349479\n",
      "Page ID: 197, PageRank Score: 0.0077962409348420764\n"
     ]
    }
   ],
   "source": [
    "def pagerank_powermethod(matrix, alpha, num_iterations=100):\n",
    "    n = matrix.shape[0]\n",
    "    e = np.ones(n)\n",
    "    \n",
    "    Q = matrix\n",
    "    sum_col = Q.sum(axis=0)\n",
    "    sum_col[np.where(sum_col==0)]=1 # avoiding devision by zero\n",
    "    Q = Q/sum_col\n",
    "    \n",
    "    r = np.ones(n)/n\n",
    "    #sparse Q\n",
    "    sQ = sparse.csr_matrix(Q)\n",
    "    for _ in range(num_iterations):\n",
    "        beta = 1 - np.linalg.norm(alpha*sQ@r,1)\n",
    "        r = alpha*sQ@r+(beta/n)*e\n",
    "    \n",
    "    return r\n",
    "\n",
    "start = time.time()\n",
    "r_power = pagerank_powermethod(data.T, 0.85)\n",
    "time_power = time.time()-start\n",
    "\n",
    "top_20_indices = np.argsort(r_power)[-20:][::-1]\n",
    "top_20_scores = r_power[top_20_indices]\n",
    "\n",
    "print(\"Top 20 Pages:\")\n",
    "for idx, score in zip(top_20_indices, top_20_scores):\n",
    "    print(f\"Page ID: {idx}, PageRank Score: {score}\")\n"
   ]
  },
  {
   "cell_type": "markdown",
   "metadata": {},
   "source": [
    "Comparing two method based on the execution time and output"
   ]
  },
  {
   "cell_type": "code",
   "execution_count": 5,
   "metadata": {},
   "outputs": [
    {
     "name": "stdout",
     "output_type": "stream",
     "text": [
      "measuring accuracy of output based on pagerank using numpy.linalg.eig: 4.304778950449738 measuring accuracy of output based on pagerank using powermethod: 0.01457799111872476\n",
      "execution time of pagerank using numpy.linalg.eig: 1.0247840881347656 execution time of pagerank using powermethod: 0.030916452407836914\n"
     ]
    }
   ],
   "source": [
    "Q = data.T\n",
    "sum_col = Q.sum(axis=0)\n",
    "sum_col[np.where(sum_col==0)]=1 # avoiding devision by zero\n",
    "Q = Q/sum_col\n",
    "    \n",
    "# comparing outputs\n",
    "print(\"measuring accuracy of output based on pagerank using numpy.linalg.eig:\", np.linalg.norm(Q@r_lib - r_lib), \"measuring accuracy of output based on pagerank using powermethod:\", np.linalg.norm(Q@r_power - r_power))\n",
    "\n",
    "# comparing execution times\n",
    "print(\"execution time of pagerank using numpy.linalg.eig:\", time_lib, \"execution time of pagerank using powermethod:\", time_power)"
   ]
  },
  {
   "cell_type": "markdown",
   "metadata": {},
   "source": [
    "pagerank using networks"
   ]
  },
  {
   "cell_type": "code",
   "execution_count": 6,
   "metadata": {},
   "outputs": [
    {
     "name": "stdout",
     "output_type": "stream",
     "text": [
      "Top 20 Pages from NetworkX:\n",
      "Page ID: 860, PageRank Score: 0.036802523198682005\n",
      "Page ID: 767, PageRank Score: 0.0342310012052098\n",
      "Page ID: 39, PageRank Score: 0.03127589443265558\n",
      "Page ID: 926, PageRank Score: 0.028610857570783414\n",
      "Page ID: 371, PageRank Score: 0.014206404510008304\n",
      "Page ID: 742, PageRank Score: 0.01343036408888926\n",
      "Page ID: 934, PageRank Score: 0.013012341041687164\n",
      "Page ID: 256, PageRank Score: 0.01253523750494919\n",
      "Page ID: 803, PageRank Score: 0.01232731447875722\n",
      "Page ID: 32, PageRank Score: 0.012300746888460092\n",
      "Page ID: 967, PageRank Score: 0.012244346977842891\n",
      "Page ID: 944, PageRank Score: 0.012074902379336313\n",
      "Page ID: 714, PageRank Score: 0.01170500738459077\n",
      "Page ID: 719, PageRank Score: 0.011570219368020974\n",
      "Page ID: 923, PageRank Score: 0.011570219368020974\n",
      "Page ID: 720, PageRank Score: 0.011511305095388018\n",
      "Page ID: 295, PageRank Score: 0.010745637925326897\n",
      "Page ID: 329, PageRank Score: 0.010016107056598157\n",
      "Page ID: 812, PageRank Score: 0.007816352397179465\n",
      "Page ID: 197, PageRank Score: 0.0078095030258845425\n"
     ]
    }
   ],
   "source": [
    "G = nx.to_networkx_graph(data, create_using=nx.DiGraph)\n",
    "start = time.time()\n",
    "r_nx = nx.pagerank(G)\n",
    "time_nx = time.time() - start\n",
    "top_20_nx = sorted(r_nx.items(), key=lambda x: x[1], reverse=True)[:20]\n",
    "print(\"Top 20 Pages from NetworkX:\")\n",
    "for idx, score in top_20_nx:\n",
    "    print(f\"Page ID: {idx}, PageRank Score: {score}\")"
   ]
  },
  {
   "cell_type": "markdown",
   "metadata": {},
   "source": [
    "compare"
   ]
  },
  {
   "cell_type": "code",
   "execution_count": 7,
   "metadata": {},
   "outputs": [
    {
     "data": {
      "text/plain": [
       "(0.014501402341095789, 0.013960838317871094)"
      ]
     },
     "execution_count": 7,
     "metadata": {},
     "output_type": "execute_result"
    }
   ],
   "source": [
    "r_nx = np.array(list(r_nx.values()))\n",
    "np.linalg.norm(Q@r_nx-r_nx), time_nx"
   ]
  },
  {
   "cell_type": "markdown",
   "metadata": {},
   "source": [
    "alpha"
   ]
  },
  {
   "cell_type": "code",
   "execution_count": 8,
   "metadata": {},
   "outputs": [
    {
     "name": "stdout",
     "output_type": "stream",
     "text": [
      "PageRank for alpha=0.25:\n",
      "0.09042993699169666\n",
      "PageRank for alpha=0.5:\n",
      "0.05315494038506027\n",
      "PageRank for alpha=0.75:\n",
      "0.024096448689294385\n",
      "PageRank for alpha=0.99:\n",
      "0.002194506230480889\n"
     ]
    }
   ],
   "source": [
    "alpha_values = [0.25, 0.5, 0.75, 0.99]\n",
    "for alpha in alpha_values:\n",
    "    r = pagerank_powermethod(data.T, alpha)\n",
    "    print(f\"PageRank for alpha={alpha}:\")\n",
    "    print(np.linalg.norm(Q@r-r))"
   ]
  },
  {
   "cell_type": "markdown",
   "metadata": {},
   "source": [
    "Q2"
   ]
  },
  {
   "cell_type": "code",
   "execution_count": 9,
   "metadata": {},
   "outputs": [
    {
     "data": {
      "text/plain": [
       "{5: 0.22178581561416394,\n",
       " 2: 0.1483512614371394,\n",
       " 4: 0.13309283268967886,\n",
       " 9: 0.1293006643686188,\n",
       " 7: 0.07814005033301585,\n",
       " 1: 0.07814005033301585,\n",
       " 10: 0.04223786504487344,\n",
       " 8: 0.04223786504487344,\n",
       " 6: 0.04223786504487344,\n",
       " 3: 0.04223786504487344,\n",
       " 0: 0.04223786504487344}"
      ]
     },
     "execution_count": 9,
     "metadata": {},
     "output_type": "execute_result"
    }
   ],
   "source": [
    "M = np.array([[0, 0, 0, 0, 0, 0, 0, 0, 0, 0, 0],\n",
    "              [1, 0, 0, 0, 0, 0, 1, 0, 0, 0, 0],\n",
    "              [0, 1, 0, 0, 0, 0, 0, 0, 1, 1, 0],\n",
    "              [0, 0, 0, 0, 0, 0, 0, 0, 0, 0, 0],\n",
    "              [0, 0, 0, 1, 0, 0, 0, 0, 0, 1, 1],\n",
    "              [0, 0, 0, 0, 1, 0, 0, 1, 0, 0, 0],\n",
    "              [0, 0, 0, 0, 0, 0, 0, 0, 0, 0, 0],\n",
    "              [1, 0, 0, 0, 0, 0, 1, 0, 0, 0, 0],\n",
    "              [0, 0, 0, 0, 0, 0, 0, 0, 0, 0, 0],\n",
    "              [0, 1, 0, 1, 0, 0, 0, 0, 1, 0, 1],\n",
    "              [0, 0, 0, 0, 0, 0, 0, 0, 0, 0, 0]])\n",
    "roads = pagerank_powermethod(M, 0.85)\n",
    "dict(zip(roads.argsort()[::-1], np.sort(roads)[::-1]))"
   ]
  },
  {
   "cell_type": "code",
   "execution_count": 10,
   "metadata": {},
   "outputs": [
    {
     "data": {
      "text/plain": [
       "{0: 0.042237632230445084,\n",
       " 1: 0.07813991093909312,\n",
       " 2: 0.1483519515396573,\n",
       " 3: 0.042237632230445084,\n",
       " 4: 0.1330931108197563,\n",
       " 5: 0.22178592424253255,\n",
       " 6: 0.042237632230445084,\n",
       " 7: 0.07813991093909312,\n",
       " 8: 0.042237632230445084,\n",
       " 9: 0.12930103036764215,\n",
       " 10: 0.042237632230445084}"
      ]
     },
     "execution_count": 10,
     "metadata": {},
     "output_type": "execute_result"
    }
   ],
   "source": [
    "H = nx.to_networkx_graph(M.T, create_using=nx.DiGraph)\n",
    "nx.pagerank(H)"
   ]
  }
 ],
 "metadata": {
  "kernelspec": {
   "display_name": "Python 3",
   "language": "python",
   "name": "python3"
  },
  "language_info": {
   "codemirror_mode": {
    "name": "ipython",
    "version": 3
   },
   "file_extension": ".py",
   "mimetype": "text/x-python",
   "name": "python",
   "nbconvert_exporter": "python",
   "pygments_lexer": "ipython3",
   "version": "3.12.2"
  }
 },
 "nbformat": 4,
 "nbformat_minor": 2
}
